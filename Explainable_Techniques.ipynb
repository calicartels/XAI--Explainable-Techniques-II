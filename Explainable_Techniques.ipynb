{
  "nbformat": 4,
  "nbformat_minor": 0,
  "metadata": {
    "colab": {
      "private_outputs": true,
      "provenance": [],
      "authorship_tag": "ABX9TyMR+qMqNgj46UxTWVDThn/K",
      "include_colab_link": true
    },
    "kernelspec": {
      "name": "python3",
      "display_name": "Python 3"
    },
    "language_info": {
      "name": "python"
    }
  },
  "cells": [
    {
      "cell_type": "markdown",
      "metadata": {
        "id": "view-in-github",
        "colab_type": "text"
      },
      "source": [
        "<a href=\"https://colab.research.google.com/github/calicartels/XAI--Explainable-Techniques-II/blob/main/Explainable_Techniques.ipynb\" target=\"_parent\"><img src=\"https://colab.research.google.com/assets/colab-badge.svg\" alt=\"Open In Colab\"/></a>"
      ]
    },
    {
      "cell_type": "markdown",
      "source": [
        "# Explainable Techniques II\n"
      ],
      "metadata": {
        "id": "MnEgT0VdzCgb"
      }
    },
    {
      "cell_type": "code",
      "source": [
        "\n",
        "!pip install numpy==1.25.2 pandas==2.0.3 scikit-learn==1.2.2 shap==0.45.1\n",
        "!pip install git+https://github.com/MaximeJumelle/ALEPython.git@dev#egg=alepython"
      ],
      "metadata": {
        "id": "TBbWSXHGMisP"
      },
      "execution_count": null,
      "outputs": []
    },
    {
      "cell_type": "code",
      "source": [
        "\n",
        "# Data\n",
        "import numpy as np\n",
        "import pandas as pd\n",
        "import matplotlib.pyplot as plt\n",
        "\n",
        "# Models\n",
        "import xgboost\n",
        "from sklearn.model_selection import train_test_split\n",
        "from sklearn.ensemble import RandomForestRegressor\n",
        "\n",
        "\n",
        "# XAI\n",
        "import shap\n",
        "from alepython import ale_plot\n",
        "from sklearn.inspection import PartialDependenceDisplay\n",
        "from sklearn.inspection import permutation_importance\n",
        "\n",
        "np.random.seed(1)"
      ],
      "metadata": {
        "id": "QTytvGibNRx0"
      },
      "execution_count": null,
      "outputs": []
    },
    {
      "cell_type": "code",
      "source": [
        "X = pd.DataFrame(X, columns=[\n",
        "    'MedInc', 'HouseAge', 'AveRooms', 'AveOccup',\n",
        "    'Latitude', 'Longitude'\n",
        "])\n",
        "\n",
        "plt.figure(figsize=(10, 6))\n",
        "correlation_matrix = X.corr()\n",
        "sns.heatmap(correlation_matrix, annot=True, cmap='coolwarm', fmt='.2f')\n",
        "plt.title('Correlation Matrix')\n",
        "plt.show()"
      ],
      "metadata": {
        "id": "o4kBY0Ihi-jR"
      },
      "execution_count": null,
      "outputs": []
    },
    {
      "cell_type": "markdown",
      "source": [
        "The correlation matrix reveals several important relationships:\n",
        "- Strong negative correlation (-0.92) between Latitude and Longitude\n",
        "- Weak positive correlation (0.27) between MedInc and AveRooms\n",
        "- Most other features show weak correlations (< |0.15|)\n",
        "- This high correlation between Latitude and Longitude suggests potential issues with interpreting their individual effects"
      ],
      "metadata": {
        "id": "vKfYTIKEx82o"
      }
    },
    {
      "cell_type": "code",
      "source": [
        "\n",
        "n_points = 1000\n",
        "X, y = shap.datasets.california(n_points=n_points)\n",
        "\n",
        "# Splitting the dataset\n",
        "X_train, X_test, y_train, y_test = train_test_split(X, y, test_size=0.2, random_state=42)\n",
        "\n"
      ],
      "metadata": {
        "id": "5ETSsN-MNUdT"
      },
      "execution_count": null,
      "outputs": []
    },
    {
      "cell_type": "code",
      "source": [
        "# Training RF\n",
        "model = RandomForestRegressor(random_state=42)\n",
        "model.fit(X_train, y_train)  # Use raw features for training\n",
        "\n"
      ],
      "metadata": {
        "id": "1DMgBeU4OB-A"
      },
      "execution_count": null,
      "outputs": []
    },
    {
      "cell_type": "code",
      "source": [
        "# Partial Dependence Plots (PDP)\n",
        "print(\"\\nGenerating Partial Dependence Plots (PDP)...\")\n",
        "features_to_plot = [0, 5]  # Choose features to plot (e.g., 'MedInc' and 'HouseAge')\n",
        "PartialDependenceDisplay.from_estimator(\n",
        "    model,\n",
        "    X_train,\n",
        "    features=features_to_plot,\n",
        "    grid_resolution=50\n",
        ")\n",
        "plt.show()\n",
        "\n"
      ],
      "metadata": {
        "id": "Z7sTAbS7iAhf"
      },
      "execution_count": null,
      "outputs": []
    },
    {
      "cell_type": "markdown",
      "source": [
        "- MedInc : Strong positive relationship with the target variable\n",
        "\n",
        "* Almost monotonic increase\n",
        "* Steeper slope after MedInc value of 6\n",
        "* Suggests higher median income strongly predicts higher house values\n",
        "\n",
        "\n",
        "- AveOccup : Negative relationship with the target\n",
        "\n",
        "* Steep decline initially\n",
        "* Levels off after AveOccup value of ~3\n",
        "* Suggests houses with very high occupancy tend to have lower values"
      ],
      "metadata": {
        "id": "962LFDu9yIQs"
      }
    },
    {
      "cell_type": "code",
      "source": [
        "# SHAP values\n",
        "print(\"\\nGenerating SHAP values...\")\n",
        "explainer = shap.Explainer(model, X_train)\n",
        "shap_values = explainer(X_test)\n",
        "\n",
        "# SHAP summary\n",
        "shap.summary_plot(shap_values, X_test)\n",
        "plt.show()"
      ],
      "metadata": {
        "id": "uA_kP7lLiCa2"
      },
      "execution_count": null,
      "outputs": []
    },
    {
      "cell_type": "markdown",
      "source": [
        "- MedInc has the highest impact on predictions\n",
        "- Wide spread of SHAP values indicates complex interactions\n",
        "Color gradient shows feature value relationships:\n",
        "\n",
        "- Higher MedInc (pink) → higher positive impact\n",
        "- Lower AveOccup (blue) → higher negative impact\n",
        "- Geographic features (Latitude/Longitude) show clustered effects"
      ],
      "metadata": {
        "id": "VVd_MaqGyhAa"
      }
    },
    {
      "cell_type": "markdown",
      "source": [
        "**Key insights and recommendations**\n",
        "\n",
        "Feature Importance:\n",
        "\n",
        "\n",
        "- MedInc is clearly the most influential feature\n",
        "Geographic location (Lat/Long) has significant but complex effects\n",
        "AveOccup has a moderate negative impact\n",
        "\n",
        "\n",
        "Model Interpretation Considerations:\n",
        "\n",
        "\n",
        "- The strong correlation between Latitude and Longitude means their individual PDPs should be interpreted with caution\n",
        "\n",
        "- The smooth nature of the PDPs suggests the model is capturing reasonable relationships"
      ],
      "metadata": {
        "id": "gxNR4_nuyudp"
      }
    },
    {
      "cell_type": "code",
      "source": [],
      "metadata": {
        "id": "PP5VjeS5iC6u"
      },
      "execution_count": null,
      "outputs": []
    }
  ]
}