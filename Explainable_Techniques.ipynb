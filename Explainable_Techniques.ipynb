{
  "nbformat": 4,
  "nbformat_minor": 0,
  "metadata": {
    "colab": {
      "private_outputs": true,
      "provenance": [],
      "authorship_tag": "ABX9TyOXqjB98RbaLI/B8HAuXXYq",
      "include_colab_link": true
    },
    "kernelspec": {
      "name": "python3",
      "display_name": "Python 3"
    },
    "language_info": {
      "name": "python"
    }
  },
  "cells": [
    {
      "cell_type": "markdown",
      "metadata": {
        "id": "view-in-github",
        "colab_type": "text"
      },
      "source": [
        "<a href=\"https://colab.research.google.com/github/calicartels/XAI--Explainable-Techniques-II/blob/main/Explainable_Techniques.ipynb\" target=\"_parent\"><img src=\"https://colab.research.google.com/assets/colab-badge.svg\" alt=\"Open In Colab\"/></a>"
      ]
    },
    {
      "cell_type": "markdown",
      "source": [
        "# Explainable Techniques II\n"
      ],
      "metadata": {
        "id": "MnEgT0VdzCgb"
      }
    },
    {
      "cell_type": "code",
      "source": [
        "\n",
        "!pip install numpy==1.25.2 pandas==2.0.3 scikit-learn==1.2.2 shap==0.45.1\n",
        "!pip install git+https://github.com/MaximeJumelle/ALEPython.git@dev#egg=alepython"
      ],
      "metadata": {
        "id": "TBbWSXHGMisP"
      },
      "execution_count": null,
      "outputs": []
    },
    {
      "cell_type": "code",
      "source": [
        "\n",
        "# Data\n",
        "import numpy as np\n",
        "import pandas as pd\n",
        "import matplotlib.pyplot as plt\n",
        "import seaborn as sns\n",
        "\n",
        "# Models\n",
        "from sklearn.ensemble import GradientBoostingRegressor\n",
        "from sklearn.model_selection import train_test_split\n",
        "\n",
        "# XAI\n",
        "import shap\n",
        "from alepython import ale_plot\n",
        "from sklearn.inspection import PartialDependenceDisplay\n",
        "from sklearn.inspection import permutation_importance\n",
        "\n",
        "np.random.seed(1)"
      ],
      "metadata": {
        "id": "QTytvGibNRx0"
      },
      "execution_count": null,
      "outputs": []
    },
    {
      "cell_type": "code",
      "source": [
        "# for correlation matrix\n",
        "\n",
        "X, y = shap.datasets.linnerud()\n",
        "X = pd.DataFrame(X, columns=['Chins', 'Situps', 'Jumps'])\n",
        "y = pd.DataFrame(y, columns=['Weight', 'Waist', 'Pulse'])"
      ],
      "metadata": {
        "id": "Ujig7s026f5D"
      },
      "execution_count": null,
      "outputs": []
    },
    {
      "cell_type": "code",
      "source": [
        "plt.figure(figsize=(8, 5))\n",
        "correlation_matrix = X.corr()\n",
        "sns.heatmap(correlation_matrix, annot=True, cmap='coolwarm', fmt='.2f')\n",
        "plt.title('Correlation Matrix of Features')\n",
        "plt.show()"
      ],
      "metadata": {
        "id": "o4kBY0Ihi-jR"
      },
      "execution_count": null,
      "outputs": []
    },
    {
      "cell_type": "markdown",
      "source": [
        "The correlation matrix reveals several important relationships:\n",
        "- Strong positive correlation (0.70) between Chins and Situps\n",
        "- Strong positive correlation (0.67) between Situps and Jumps\n",
        "- Moderate positive correlation (0.50) between Jumps and Chins"
      ],
      "metadata": {
        "id": "vKfYTIKEx82o"
      }
    },
    {
      "cell_type": "code",
      "source": [
        "\n",
        "\n",
        "# Splitting the dataset\n",
        "X_train, X_test, y_train, y_test = train_test_split(X, y['Weight'], test_size=0.2, random_state=42)\n",
        "\n"
      ],
      "metadata": {
        "id": "5ETSsN-MNUdT"
      },
      "execution_count": null,
      "outputs": []
    },
    {
      "cell_type": "code",
      "source": [
        "# Training GradientBoosting\n",
        "model = GradientBoostingRegressor(random_state=42)\n",
        "model.fit(X_train, y_train)\n",
        "\n"
      ],
      "metadata": {
        "id": "1DMgBeU4OB-A"
      },
      "execution_count": null,
      "outputs": []
    },
    {
      "cell_type": "code",
      "source": [
        "\n",
        "# Lets Check PDP of features Chins and Situps\n",
        "# Partial Dependence Plots (PDP)\n",
        "features_to_plot = [0, 1]\n",
        "PartialDependenceDisplay.from_estimator(\n",
        "    model,\n",
        "    X_train,\n",
        "    features=features_to_plot,\n",
        "    grid_resolution=50\n",
        ")\n",
        "plt.show()\n",
        "\n"
      ],
      "metadata": {
        "id": "Z7sTAbS7iAhf"
      },
      "execution_count": null,
      "outputs": []
    },
    {
      "cell_type": "markdown",
      "source": [
        "Chins:\n",
        "-\tShows a sharp drop initially for lower values of Chins, then stabilizes with slight fluctuations.\n",
        "-\tAfter the initial drop, increasing the number of chin-ups has a limited effect on the target variable.\n",
        "-\tSuggests that low values of Chins might initially reduce the target variable, but higher values have less impact.\n",
        "\n",
        "Situps:\n",
        "- Displays a strong initial positive partial dependence, followed by a steep decline as the number of sit-ups increases.\n",
        "- After the initial drop, the curve fluctuates but stays generally lower than at the start.\n",
        "- Indicates that higher numbers of sit-ups have a negative effect on the target variable, likely due to associations with physical endurance.\n"
      ],
      "metadata": {
        "id": "962LFDu9yIQs"
      }
    },
    {
      "cell_type": "code",
      "source": [
        "# SHAP values\n",
        "explainer = shap.Explainer(model, X_train)\n",
        "shap_values = explainer(X_test)\n",
        "\n",
        "# SHAP summary\n",
        "shap.summary_plot(shap_values, X_test)\n",
        "plt.show()"
      ],
      "metadata": {
        "id": "uA_kP7lLiCa2"
      },
      "execution_count": null,
      "outputs": []
    },
    {
      "cell_type": "markdown",
      "source": [
        "Chins:\n",
        "- Moderate impact on model output, with both positive and negative SHAP values.\n",
        "- Higher Chins values tend to push predictions slightly negatively, while lower values may have a neutral or slightly positive effect.\n",
        "- Shows that Chins has a mixed influence on the target, depending on its value.\n",
        "\n",
        "Situps:\n",
        "- Strong negative SHAP values for higher values of Situps, indicating a consistent negative impact on model predictions.\n",
        "- Lower values of Situps have minimal influence, while higher values drive the target variable down significantly.\n",
        "- Suggests that high numbers of sit-ups reduce the target variable’s predicted outcome.\n",
        "\n",
        "Jumps:\n",
        "- Low overall impact on predictions, with both positive and negative SHAP values, indicating minimal influence on the target.\n",
        "- Some negative SHAP values for higher Jumps values, but the effect is minor.\n",
        "- Indicates that Jumps contributes little to the model’s predictions in either direction."
      ],
      "metadata": {
        "id": "VVd_MaqGyhAa"
      }
    },
    {
      "cell_type": "code",
      "source": [],
      "metadata": {
        "id": "PP5VjeS5iC6u"
      },
      "execution_count": null,
      "outputs": []
    }
  ]
}